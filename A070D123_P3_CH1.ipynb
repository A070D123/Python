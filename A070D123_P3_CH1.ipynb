{
  "nbformat": 4,
  "nbformat_minor": 0,
  "metadata": {
    "colab": {
      "name": "A070D123_P3_CH1.ipynb",
      "version": "0.3.2",
      "provenance": [],
      "collapsed_sections": [],
      "include_colab_link": true
    },
    "kernelspec": {
      "name": "python3",
      "display_name": "Python 3"
    }
  },
  "cells": [
    {
      "cell_type": "markdown",
      "metadata": {
        "id": "view-in-github",
        "colab_type": "text"
      },
      "source": [
        "<a href=\"https://colab.research.google.com/github/A070D123/Python/blob/master/A070D123_P3_CH1.ipynb\" target=\"_parent\"><img src=\"https://colab.research.google.com/assets/colab-badge.svg\" alt=\"Open In Colab\"/></a>"
      ]
    },
    {
      "metadata": {
        "id": "uB53dw28My25",
        "colab_type": "text"
      },
      "cell_type": "markdown",
      "source": [
        "範例1.1 列印 P.16"
      ]
    },
    {
      "metadata": {
        "id": "iutrW6VOMZZQ",
        "colab_type": "code",
        "colab": {
          "base_uri": "https://localhost:8080/",
          "height": 51
        },
        "outputId": "8f19b6eb-8f4f-4a0f-ef74-d447c77645de"
      },
      "cell_type": "code",
      "source": [
        "# Display two messages\n",
        "print(\"Welcome to Python\")\n",
        "print(\"Python is fun\")\n"
      ],
      "execution_count": 2,
      "outputs": [
        {
          "output_type": "stream",
          "text": [
            "Welcome to Python\n",
            "Python is fun\n"
          ],
          "name": "stdout"
        }
      ]
    },
    {
      "metadata": {
        "id": "SgpHB8NeM6vJ",
        "colab_type": "text"
      },
      "cell_type": "markdown",
      "source": [
        "範例1.2 列印 P.17"
      ]
    },
    {
      "metadata": {
        "id": "1jLi8bvHM91h",
        "colab_type": "code",
        "colab": {
          "base_uri": "https://localhost:8080/",
          "height": 68
        },
        "outputId": "6311dddb-5cfd-47a1-890a-be0ab93d9cc9"
      },
      "cell_type": "code",
      "source": [
        "# Display three messages\n",
        "print(\"Welcome to Python\")\n",
        "print(\"Python is fun\")\n",
        "print(\"Problem Driven\")  \n"
      ],
      "execution_count": 3,
      "outputs": [
        {
          "output_type": "stream",
          "text": [
            "Welcome to Python\n",
            "Python is fun\n",
            "Problem Driven\n"
          ],
          "name": "stdout"
        }
      ]
    },
    {
      "metadata": {
        "id": "XjqCx3cwNE7I",
        "colab_type": "text"
      },
      "cell_type": "markdown",
      "source": [
        "範例1.3 數學計算 P.18"
      ]
    },
    {
      "metadata": {
        "id": "kyLbbD6aNYZw",
        "colab_type": "code",
        "colab": {
          "base_uri": "https://localhost:8080/",
          "height": 34
        },
        "outputId": "f41992e3-2349-46ed-b311-7ed04f43f0e1"
      },
      "cell_type": "code",
      "source": [
        "# Compute expression\n",
        "print((10.5 + 2 * 3) / (45 - 3.5))\n"
      ],
      "execution_count": 5,
      "outputs": [
        {
          "output_type": "stream",
          "text": [
            "0.39759036144578314\n"
          ],
          "name": "stdout"
        }
      ]
    },
    {
      "metadata": {
        "id": "xGLe3ZR8NhaZ",
        "colab_type": "text"
      },
      "cell_type": "markdown",
      "source": [
        "範例1.4 溫度轉換 P.20"
      ]
    },
    {
      "metadata": {
        "id": "RBrmnF-jNr6x",
        "colab_type": "code",
        "colab": {
          "base_uri": "https://localhost:8080/",
          "height": 51
        },
        "outputId": "7d595c50-fa82-4ba9-9c03-59e030ce0033"
      },
      "cell_type": "code",
      "source": [
        "# Convert Fahrenheit to Celsius\n",
        "print(\"Fahrenheit 35 is Celsius degree \")\n",
        "print(5 / 9 * (35 - 32))\n"
      ],
      "execution_count": 6,
      "outputs": [
        {
          "output_type": "stream",
          "text": [
            "Fahrenheit 35 is Celsius degree \n",
            "1.6666666666666667\n"
          ],
          "name": "stdout"
        }
      ]
    }
  ]
}
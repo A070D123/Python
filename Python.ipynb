{
  "nbformat": 4,
  "nbformat_minor": 0,
  "metadata": {
    "colab": {
      "name": "Python.ipynb",
      "version": "0.3.2",
      "provenance": [],
      "collapsed_sections": [],
      "include_colab_link": true
    },
    "kernelspec": {
      "name": "python3",
      "display_name": "Python 3"
    }
  },
  "cells": [
    {
      "cell_type": "markdown",
      "metadata": {
        "id": "view-in-github",
        "colab_type": "text"
      },
      "source": [
        "<a href=\"https://colab.research.google.com/github/A070D123/Python/blob/master/Python.ipynb\" target=\"_parent\"><img src=\"https://colab.research.google.com/assets/colab-badge.svg\" alt=\"Open In Colab\"/></a>"
      ]
    },
    {
      "metadata": {
        "id": "RN6-s6o70Qag",
        "colab_type": "text"
      },
      "cell_type": "markdown",
      "source": [
        "### Chapter 1"
      ]
    },
    {
      "metadata": {
        "id": "YWhEfSJJ1Zp_",
        "colab_type": "code",
        "colab": {
          "base_uri": "https://localhost:8080/",
          "height": 51
        },
        "outputId": "a7971068-f4ff-4b45-f2e1-af67ae4c76a9"
      },
      "cell_type": "code",
      "source": [
        "# Display 666\n",
        "print(\"Welcome to loli school\")\n",
        "print(\"AHHHHHHHHHHHHHHHHHHHHHHHHHHHHH\")"
      ],
      "execution_count": 2,
      "outputs": [
        {
          "output_type": "stream",
          "text": [
            "Welcome to loli school\n",
            "AHHHHHHHHHHHHHHHHHHHHHHHHHHHHH\n"
          ],
          "name": "stdout"
        }
      ]
    },
    {
      "metadata": {
        "id": "Os3Z_aKm0enw",
        "colab_type": "text"
      },
      "cell_type": "markdown",
      "source": [
        "### Chapter 2"
      ]
    },
    {
      "metadata": {
        "id": "mKon51Jf0e6A",
        "colab_type": "text"
      },
      "cell_type": "markdown",
      "source": [
        "### Chapter 3"
      ]
    },
    {
      "metadata": {
        "id": "VmjTjH-20fAI",
        "colab_type": "text"
      },
      "cell_type": "markdown",
      "source": [
        "### Chapter 4\n"
      ]
    },
    {
      "metadata": {
        "id": "5zBxTUyi0fCo",
        "colab_type": "text"
      },
      "cell_type": "markdown",
      "source": [
        "### Chapter 5"
      ]
    },
    {
      "metadata": {
        "id": "psq2-qt50fFB",
        "colab_type": "text"
      },
      "cell_type": "markdown",
      "source": [
        "### Chapter 6"
      ]
    },
    {
      "metadata": {
        "id": "wjN57RsU0fHo",
        "colab_type": "text"
      },
      "cell_type": "markdown",
      "source": [
        "### Chapter 15\n",
        "\n"
      ]
    }
  ]
}
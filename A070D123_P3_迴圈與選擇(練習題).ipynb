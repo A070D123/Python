{
  "nbformat": 4,
  "nbformat_minor": 0,
  "metadata": {
    "colab": {
      "name": "A070D123_P3_迴圈與選擇(練習題).ipynb",
      "version": "0.3.2",
      "provenance": [],
      "include_colab_link": true
    },
    "kernelspec": {
      "name": "python2",
      "display_name": "Python 2"
    }
  },
  "cells": [
    {
      "cell_type": "markdown",
      "metadata": {
        "id": "view-in-github",
        "colab_type": "text"
      },
      "source": [
        "<a href=\"https://colab.research.google.com/github/A070D123/Python/blob/master/A070D123_P3_%E8%BF%B4%E5%9C%88%E8%88%87%E9%81%B8%E6%93%87(%E7%B7%B4%E7%BF%92%E9%A1%8C).ipynb\" target=\"_parent\"><img src=\"https://colab.research.google.com/assets/colab-badge.svg\" alt=\"Open In Colab\"/></a>"
      ]
    },
    {
      "metadata": {
        "id": "v8DDDEhDjbk2",
        "colab_type": "code",
        "colab": {
          "base_uri": "https://localhost:8080/",
          "height": 34
        },
        "outputId": "aa771ea1-f49c-43d8-892a-9140a99479c4"
      },
      "cell_type": "code",
      "source": [
        "import time\n",
        "date = time.localtime()\t\t#取得目前的日期時間\n",
        "year = date[0]\n",
        "month = date[1]\n",
        "day = date[2]\n",
        "day_month = [31, 28, 31, 30, 31, 30, 31, 31, 30, 31, 30, 31]\n",
        "if year%400==0 or (year%4==0 and year%100!=0):\t#判斷是否為閏年\n",
        "    day_month[1] = 29\n",
        "if month==1:\n",
        "    print(day)\n",
        "else:\n",
        "    print(sum(day_month[:month-1])+day)"
      ],
      "execution_count": 14,
      "outputs": [
        {
          "output_type": "stream",
          "text": [
            "333\n"
          ],
          "name": "stdout"
        }
      ]
    },
    {
      "metadata": {
        "id": "qmhfim0pjxRx",
        "colab_type": "code",
        "colab": {
          "base_uri": "https://localhost:8080/",
          "height": 34
        },
        "outputId": "d894dec4-a6d4-4598-88ca-efe6b05a7442"
      },
      "cell_type": "code",
      "source": [
        "#!/usr/bin/python\n",
        "# -*- coding: UTF-8 -*-\n",
        "\n",
        "age = 24\n",
        "subject = \"電腦\"\n",
        "college = \"非重點\"\n",
        "if (age > 25 and subject==\"電子資訊工程\") or (college==\"重點\" and subject==\"電子資訊工程\" ) or (age<=28 and subject==\"電腦\"):\n",
        "    print(\"恭喜，抱歉，您未達到面試要求!\")\n",
        "else:\n",
        "    print(\"抱歉，您未達到面試要求\")"
      ],
      "execution_count": 7,
      "outputs": [
        {
          "output_type": "stream",
          "text": [
            "恭喜，抱歉，您未達到面試要求!\n"
          ],
          "name": "stdout"
        }
      ]
    },
    {
      "metadata": {
        "id": "VIEMwnpxjxcQ",
        "colab_type": "code",
        "colab": {
          "base_uri": "https://localhost:8080/",
          "height": 85
        },
        "outputId": "715cc754-7837-4f20-f9aa-3fd2d3b34a6f"
      },
      "cell_type": "code",
      "source": [
        "#!/usr/bin/python\n",
        "# -*- coding: UTF-8 -*-\n",
        "\n",
        "number = 2315698\n",
        "\n",
        "guess = int(raw_input('Enter an integer : '))\n",
        "\n",
        "if guess == number:\n",
        "  print 'Congratulations, you guessed it.' # New block starts here\n",
        "  print \"(This is flag: BreakALL{It is easy to write if statement}!)\" # New block ends here\n",
        "elif guess < number:\n",
        "  print 'No, it is a little higher than that' \n",
        "  # You can do whatever you want in a block ...\n",
        "else:\n",
        "  print 'No, it is a little lower than that' \n",
        "# you must have guess > number to reach here\n",
        "\n",
        "print 'Done'\n",
        "\n",
        "# This last statement is always executed, after the if statement is executed\n"
      ],
      "execution_count": 13,
      "outputs": [
        {
          "output_type": "stream",
          "text": [
            "Enter an integer : 2315698\n",
            "Congratulations, you guessed it.\n",
            "(This is flag: BreakALL{It is easy to write if statement}!)\n",
            "Done\n"
          ],
          "name": "stdout"
        }
      ]
    },
    {
      "metadata": {
        "id": "u7puRHEdkVop",
        "colab_type": "code",
        "colab": {
          "base_uri": "https://localhost:8080/",
          "height": 119
        },
        "outputId": "a2c95c8a-cdc4-49a5-ee45-d35cbe2e5bf8"
      },
      "cell_type": "code",
      "source": [
        "#!/usr/bin/python\n",
        "# -*- coding: UTF-8 -*-\n",
        "print(\"\")\n",
        "print(\"西元年代對應到的十二生肖\")\n",
        "print(\"\")\n",
        "year = int(input(\"請輸入你出生的年代: \"))\n",
        "print(\"\")\n",
        "zodiacYear = year % 12 \n",
        "if zodiacYear == 0:\n",
        "    print(\"monkey===猴子哩\")\n",
        "elif zodiacYear == 1:\n",
        "    print(\"rooster雞\")\n",
        "elif zodiacYear == 2:\n",
        "    print(\"dog狗狗\")\n",
        "elif zodiacYear == 3:\n",
        "    print(\"pig豬豬\")\n",
        "elif zodiacYear == 4: \n",
        "    print(\"rat鼠\")\n",
        "elif zodiacYear == 5: \n",
        "    print(\"ox牛\")\n",
        "elif zodiacYear == 6:\n",
        "    print(\"tiger虎虎生威\")\n",
        "elif zodiacYear == 7:\n",
        "    print(\"rabbit兔子\")\n",
        "elif zodiacYear == 8:\n",
        "    print(\"dragon偉大的龍\")\n",
        "elif zodiacYear == 9:\n",
        "    print(\"snake蛇\")\n",
        "elif zodiacYear == 10:\n",
        "    print(\"horse馬\")\n",
        "else: \n",
        "    print(\"sheep羊\")\n"
      ],
      "execution_count": 23,
      "outputs": [
        {
          "output_type": "stream",
          "text": [
            "\n",
            "西元年代對應到的十二生肖\n",
            "\n",
            "請輸入你出生的年代: 2000\n",
            "\n",
            "dragon偉大的龍\n"
          ],
          "name": "stdout"
        }
      ]
    },
    {
      "metadata": {
        "id": "_Wh3dr53l9WH",
        "colab_type": "code",
        "colab": {
          "base_uri": "https://localhost:8080/",
          "height": 34
        },
        "outputId": "03b2b507-0de4-4b4a-d38a-06924297c253"
      },
      "cell_type": "code",
      "source": [
        "score = [70, 90, 78, 85, 97, 94, 65, 80]\n",
        "s = 0\n",
        "for i in score:\n",
        "\ts += i\n",
        "print(s / len(score))"
      ],
      "execution_count": 24,
      "outputs": [
        {
          "output_type": "stream",
          "text": [
            "82\n"
          ],
          "name": "stdout"
        }
      ]
    },
    {
      "metadata": {
        "id": "ylZqdhrkmTk_",
        "colab_type": "code",
        "colab": {
          "base_uri": "https://localhost:8080/",
          "height": 68
        },
        "outputId": "5dfb8d28-0254-41eb-b0bb-1706ad6338cf"
      },
      "cell_type": "code",
      "source": [
        "words = ['cat', 'window', 'defenestrate']\n",
        "for w in words:\n",
        "   print w, len(w)\n",
        "    "
      ],
      "execution_count": 25,
      "outputs": [
        {
          "output_type": "stream",
          "text": [
            "cat 3\n",
            "window 6\n",
            "defenestrate 12\n"
          ],
          "name": "stdout"
        }
      ]
    },
    {
      "metadata": {
        "id": "6oJ-jvwbmTvg",
        "colab_type": "code",
        "colab": {
          "base_uri": "https://localhost:8080/",
          "height": 425
        },
        "outputId": "f72a8289-8a2e-4113-8a0f-a9e147f78213"
      },
      "cell_type": "code",
      "source": [
        "#!/usr/bin/python\n",
        "# -*- coding: UTF-8 -*-\n",
        " \n",
        "for i in range(1,5):\n",
        "    for j in range(1,5):\n",
        "        for k in range(1,5):\n",
        "            if( i != k ) and (i != j) and (j != k):\n",
        "                print i,j,k"
      ],
      "execution_count": 26,
      "outputs": [
        {
          "output_type": "stream",
          "text": [
            "1 2 3\n",
            "1 2 4\n",
            "1 3 2\n",
            "1 3 4\n",
            "1 4 2\n",
            "1 4 3\n",
            "2 1 3\n",
            "2 1 4\n",
            "2 3 1\n",
            "2 3 4\n",
            "2 4 1\n",
            "2 4 3\n",
            "3 1 2\n",
            "3 1 4\n",
            "3 2 1\n",
            "3 2 4\n",
            "3 4 1\n",
            "3 4 2\n",
            "4 1 2\n",
            "4 1 3\n",
            "4 2 1\n",
            "4 2 3\n",
            "4 3 1\n",
            "4 3 2\n"
          ],
          "name": "stdout"
        }
      ]
    },
    {
      "metadata": {
        "id": "f9S9z8qHmT1Y",
        "colab_type": "code",
        "colab": {
          "base_uri": "https://localhost:8080/",
          "height": 221
        },
        "outputId": "ecd3c1cf-98ef-45cf-8c4f-d6a5e713b131"
      },
      "cell_type": "code",
      "source": [
        "def main(n):\n",
        "    for i in range(n):\n",
        "        print((' * '*i).center(n*3))\n",
        "    for i in range(n, 0, -1):\n",
        "        print((' * '*i).center(n*3))\n",
        "\n",
        "main(6)"
      ],
      "execution_count": 27,
      "outputs": [
        {
          "output_type": "stream",
          "text": [
            "                  \n",
            "        *         \n",
            "       *  *       \n",
            "     *  *  *      \n",
            "    *  *  *  *    \n",
            "  *  *  *  *  *   \n",
            " *  *  *  *  *  * \n",
            "  *  *  *  *  *   \n",
            "    *  *  *  *    \n",
            "     *  *  *      \n",
            "       *  *       \n",
            "        *         \n"
          ],
          "name": "stdout"
        }
      ]
    },
    {
      "metadata": {
        "id": "OlP1rSfmmT6f",
        "colab_type": "code",
        "colab": {
          "base_uri": "https://localhost:8080/",
          "height": 34
        },
        "outputId": "1037c1de-4ed2-4116-c014-b2e00095fb22"
      },
      "cell_type": "code",
      "source": [
        "#!/usr/bin/python\n",
        "# -*- coding: UTF-8 -*-\n",
        " \n",
        "a = 809\n",
        "for i in range(10,100):\n",
        "    b = i * a\n",
        "    if b >= 1000 and b <= 10000 and 8 * i < 100 and 9 * i >= 100:\n",
        "        print b,' = 800 * ', i, ' + 9 * ', i"
      ],
      "execution_count": 29,
      "outputs": [
        {
          "output_type": "stream",
          "text": [
            "9708  = 800 *  12  + 9 *  12\n"
          ],
          "name": "stdout"
        }
      ]
    },
    {
      "metadata": {
        "id": "VFqo-ATumT_P",
        "colab_type": "code",
        "colab": {}
      },
      "cell_type": "code",
      "source": [
        ""
      ],
      "execution_count": 0,
      "outputs": []
    },
    {
      "metadata": {
        "id": "Uq9fs2vVmUGX",
        "colab_type": "code",
        "colab": {}
      },
      "cell_type": "code",
      "source": [
        ""
      ],
      "execution_count": 0,
      "outputs": []
    }
  ]
}
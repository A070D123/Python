{
  "nbformat": 4,
  "nbformat_minor": 0,
  "metadata": {
    "colab": {
      "name": "20190314.ipynb",
      "version": "0.3.2",
      "provenance": [],
      "collapsed_sections": [],
      "include_colab_link": true
    },
    "kernelspec": {
      "name": "python3",
      "display_name": "Python 3"
    }
  },
  "cells": [
    {
      "cell_type": "markdown",
      "metadata": {
        "id": "view-in-github",
        "colab_type": "text"
      },
      "source": [
        "<a href=\"https://colab.research.google.com/github/A070D123/Python/blob/master/20190314.ipynb\" target=\"_parent\"><img src=\"https://colab.research.google.com/assets/colab-badge.svg\" alt=\"Open In Colab\"/></a>"
      ]
    },
    {
      "metadata": {
        "id": "yXlid7dNzaSp",
        "colab_type": "code",
        "colab": {
          "base_uri": "https://localhost:8080/",
          "height": 34
        },
        "outputId": "c2d8678a-1c3f-4ab8-eaf3-530786fed06d"
      },
      "cell_type": "code",
      "source": [
        "eval('pow(2,6)')\n"
      ],
      "execution_count": 4,
      "outputs": [
        {
          "output_type": "execute_result",
          "data": {
            "text/plain": [
              "64"
            ]
          },
          "metadata": {
            "tags": []
          },
          "execution_count": 4
        }
      ]
    },
    {
      "metadata": {
        "id": "qy7fqZ-szcdP",
        "colab_type": "code",
        "colab": {
          "base_uri": "https://localhost:8080/",
          "height": 34
        },
        "outputId": "947372e5-9f5a-4a34-99b5-ebe1adb60a6f"
      },
      "cell_type": "code",
      "source": [
        "\n",
        "eval('pow(6,2)')\n"
      ],
      "execution_count": 5,
      "outputs": [
        {
          "output_type": "execute_result",
          "data": {
            "text/plain": [
              "36"
            ]
          },
          "metadata": {
            "tags": []
          },
          "execution_count": 5
        }
      ]
    },
    {
      "metadata": {
        "id": "Jiov9ZpbzciX",
        "colab_type": "code",
        "colab": {
          "base_uri": "https://localhost:8080/",
          "height": 34
        },
        "outputId": "b7ad63d7-e990-452d-e32c-0a580a89fd44"
      },
      "cell_type": "code",
      "source": [
        "\n",
        "eval('12 + 21')"
      ],
      "execution_count": 6,
      "outputs": [
        {
          "output_type": "execute_result",
          "data": {
            "text/plain": [
              "33"
            ]
          },
          "metadata": {
            "tags": []
          },
          "execution_count": 6
        }
      ]
    },
    {
      "metadata": {
        "id": "6kJfUnvExPca",
        "colab_type": "code",
        "colab": {
          "base_uri": "https://localhost:8080/",
          "height": 34
        },
        "outputId": "89daf007-8018-4ef1-839a-f17dd4f16374"
      },
      "cell_type": "code",
      "source": [
        "a=10\n",
        "b=20\n",
        "c=20\n",
        "g={'a':6,'b':8}\n",
        "l={'b':9,'c':10}\n",
        "eval(\"a+b+c\",g,l)\n"
      ],
      "execution_count": 3,
      "outputs": [
        {
          "output_type": "execute_result",
          "data": {
            "text/plain": [
              "25"
            ]
          },
          "metadata": {
            "tags": []
          },
          "execution_count": 3
        }
      ]
    },
    {
      "metadata": {
        "id": "dWN3J8Fjz0YI",
        "colab_type": "code",
        "colab": {
          "base_uri": "https://localhost:8080/",
          "height": 85
        },
        "outputId": "ddadfbbc-a2ac-4d45-ab1f-1e72e25291d6"
      },
      "cell_type": "code",
      "source": [
        "q = 259\n",
        "p = 0.038 \n",
        "print(q, p, p * q)\n",
        "print(q, p, p * q, sep=\",\")\n",
        "print(q, p, p * q, sep=\" :-) \")\n",
        "print(str(q) + \" \" + str(p) + \" \" + str(p * q))"
      ],
      "execution_count": 8,
      "outputs": [
        {
          "output_type": "stream",
          "text": [
            "259 0.038 9.842\n",
            "259,0.038,9.842\n",
            "259 :-) 0.038 :-) 9.842\n",
            "259 0.038 9.842\n"
          ],
          "name": "stdout"
        }
      ]
    },
    {
      "metadata": {
        "id": "Z7Ow6SW-0I6I",
        "colab_type": "code",
        "colab": {
          "base_uri": "https://localhost:8080/",
          "height": 51
        },
        "outputId": "c62fb6e1-102c-4621-fe58-a952f7322f41"
      },
      "cell_type": "code",
      "source": [
        "number1, number2, number3 = eval(input(\"Enter three numbers separated by commas: \"))\n",
        "average = (number1 + number2 + number3) / 3\n",
        "print(\"The average of\", number1, number2, number3, \"is\", average)"
      ],
      "execution_count": 12,
      "outputs": [
        {
          "output_type": "stream",
          "text": [
            "Enter three numbers separated by commas: 12,24,36\n",
            "The average of 12 24 36 is 24.0\n"
          ],
          "name": "stdout"
        }
      ]
    },
    {
      "metadata": {
        "id": "_VWK1Ts20c1o",
        "colab_type": "code",
        "colab": {
          "base_uri": "https://localhost:8080/",
          "height": 68
        },
        "outputId": "16826dc7-b5eb-4f3f-a8e9-11a403f80f27"
      },
      "cell_type": "code",
      "source": [
        "length = eval(input(\"請輸入四方型的長度大小\"))\n",
        "width = eval(input(\"請輸入四方型的寬度大小\"))\n",
        "\n",
        "perimeter = 2.000000 * (width + length)\n",
        "\n",
        "area = width * length\n",
        "\n",
        "print(\"四方型長度為\", length,\"寬度為\" ,width ,\"的面積是\", area,\"的周長是\",perimeter)"
      ],
      "execution_count": 24,
      "outputs": [
        {
          "output_type": "stream",
          "text": [
            "請輸入四方型的長度大小20\n",
            "請輸入四方型的寬度大小20\n",
            "四方型長度為 20 寬度為 20 的面積是 400 的周長是 80.0\n"
          ],
          "name": "stdout"
        }
      ]
    },
    {
      "metadata": {
        "id": "1_te2kSr1ofI",
        "colab_type": "code",
        "colab": {
          "base_uri": "https://localhost:8080/",
          "height": 204
        },
        "outputId": "7b7800e3-fbb3-4bf8-b562-2b0f43c874da"
      },
      "cell_type": "code",
      "source": [
        "#!/usr/bin/python3\n",
        " \n",
        "str='Runoob'\n",
        " \n",
        "print(str)                 # 输出字符串\n",
        "print(str[0:-1])           # 输出第一个到倒数第二个的所有字符\n",
        "print(str[0])              # 输出字符串第一个字符\n",
        "print(str[2:5])            # 输出从第三个开始到第五个的字符\n",
        "print(str[2:])             # 输出从第三个开始的后的所有字符\n",
        "print(str * 2)             # 输出字符串两次\n",
        "print(str + '你好')        # 连接字符串\n",
        " \n",
        "print('------------------------------')\n",
        " \n",
        "print('hello\\nrunoob')      # 使用反斜杠(\\)+n转义特殊字符\n",
        "print(r'hello\\nrunoob')     # 在字符串前面添加一个 r，表示原始字符串，不会发生转义"
      ],
      "execution_count": 25,
      "outputs": [
        {
          "output_type": "stream",
          "text": [
            "Runoob\n",
            "Runoo\n",
            "R\n",
            "noo\n",
            "noob\n",
            "RunoobRunoob\n",
            "Runoob你好\n",
            "------------------------------\n",
            "hello\n",
            "runoob\n",
            "hello\\nrunoob\n"
          ],
          "name": "stdout"
        }
      ]
    },
    {
      "metadata": {
        "id": "hrC7mwJn2p3w",
        "colab_type": "code",
        "colab": {}
      },
      "cell_type": "code",
      "source": [
        "import sys"
      ],
      "execution_count": 0,
      "outputs": []
    },
    {
      "metadata": {
        "id": "pOTFh4I86F73",
        "colab_type": "code",
        "colab": {
          "base_uri": "https://localhost:8080/",
          "height": 34
        },
        "outputId": "18ee3f1f-62a4-4181-da46-3aafd3c8d57f"
      },
      "cell_type": "code",
      "source": [
        "' %c %o %x %d %g ' % (101,101,101,101,101)"
      ],
      "execution_count": 28,
      "outputs": [
        {
          "output_type": "execute_result",
          "data": {
            "text/plain": [
              "' e 145 65 101 101 '"
            ]
          },
          "metadata": {
            "tags": []
          },
          "execution_count": 28
        }
      ]
    },
    {
      "metadata": {
        "id": "DSTt2pbc9lwH",
        "colab_type": "code",
        "colab": {
          "base_uri": "https://localhost:8080/",
          "height": 34
        },
        "outputId": "f2cb3781-c8dc-4d2a-8ffe-49b7496be7d9"
      },
      "cell_type": "code",
      "source": [
        "17 // 3  "
      ],
      "execution_count": 29,
      "outputs": [
        {
          "output_type": "execute_result",
          "data": {
            "text/plain": [
              "5"
            ]
          },
          "metadata": {
            "tags": []
          },
          "execution_count": 29
        }
      ]
    },
    {
      "metadata": {
        "id": "FlqTHPcn9peW",
        "colab_type": "code",
        "colab": {
          "base_uri": "https://localhost:8080/",
          "height": 34
        },
        "outputId": "224cd4b7-ac38-4d7a-cb55-0bfc41cfc1ce"
      },
      "cell_type": "code",
      "source": [
        "1457986%113"
      ],
      "execution_count": 31,
      "outputs": [
        {
          "output_type": "execute_result",
          "data": {
            "text/plain": [
              "60"
            ]
          },
          "metadata": {
            "tags": []
          },
          "execution_count": 31
        }
      ]
    },
    {
      "metadata": {
        "id": "yBbDjeCe96mf",
        "colab_type": "code",
        "colab": {
          "base_uri": "https://localhost:8080/",
          "height": 34
        },
        "outputId": "1bd4dad1-f45d-444c-d22b-1a20598239ed"
      },
      "cell_type": "code",
      "source": [
        "1457986/113\n"
      ],
      "execution_count": 32,
      "outputs": [
        {
          "output_type": "execute_result",
          "data": {
            "text/plain": [
              "12902.530973451327"
            ]
          },
          "metadata": {
            "tags": []
          },
          "execution_count": 32
        }
      ]
    },
    {
      "metadata": {
        "id": "uA9qaJzU-AR_",
        "colab_type": "code",
        "colab": {
          "base_uri": "https://localhost:8080/",
          "height": 34
        },
        "outputId": "4b7f5950-d27a-4cec-83d8-2564f68494da"
      },
      "cell_type": "code",
      "source": [
        "1457986//113\n",
        "\n",
        "\n",
        "\n"
      ],
      "execution_count": 33,
      "outputs": [
        {
          "output_type": "execute_result",
          "data": {
            "text/plain": [
              "12902"
            ]
          },
          "metadata": {
            "tags": []
          },
          "execution_count": 33
        }
      ]
    }
  ]
}
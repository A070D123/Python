{
  "nbformat": 4,
  "nbformat_minor": 0,
  "metadata": {
    "colab": {
      "name": "A070D123_P3.ipynb",
      "version": "0.3.2",
      "provenance": [],
      "include_colab_link": true
    },
    "kernelspec": {
      "name": "python3",
      "display_name": "Python 3"
    }
  },
  "cells": [
    {
      "cell_type": "markdown",
      "metadata": {
        "id": "view-in-github",
        "colab_type": "text"
      },
      "source": [
        "<a href=\"https://colab.research.google.com/github/A070D123/Python/blob/master/A070D123_P3.ipynb\" target=\"_parent\"><img src=\"https://colab.research.google.com/assets/colab-badge.svg\" alt=\"Open In Colab\"/></a>"
      ]
    },
    {
      "metadata": {
        "id": "IpRA251vCnYl",
        "colab_type": "text"
      },
      "cell_type": "markdown",
      "source": [
        "範例4.1 判別答案"
      ]
    },
    {
      "metadata": {
        "id": "2Cyez7ZjBzvF",
        "colab_type": "code",
        "colab": {
          "base_uri": "https://localhost:8080/",
          "height": 51
        },
        "outputId": "40d01932-13dc-43c4-c3f2-a4784b1403b1"
      },
      "cell_type": "code",
      "source": [
        "import random \n",
        "\n",
        "# Generate random numbers\n",
        "number1 = random.randint(0, 9)\n",
        "number2 = random.randint(0, 9)\n",
        "\n",
        "# Prompt the user to enter an answer\n",
        "answer = eval(input(\"What is \" + str(number1) + \" + \" \n",
        "    + str(number2) + \"? \"))\n",
        "    \n",
        "# Display result    \n",
        "print(number1, \"+\", number2, \"=\", answer, \n",
        "    \"is\", number1 + number2 == answer)"
      ],
      "execution_count": 2,
      "outputs": [
        {
          "output_type": "stream",
          "text": [
            "What is 0 + 3? 3\n",
            "0 + 3 = 3 is True\n"
          ],
          "name": "stdout"
        }
      ]
    },
    {
      "metadata": {
        "id": "a60lJDebCsm9",
        "colab_type": "code",
        "colab": {}
      },
      "cell_type": "code",
      "source": [
        "範例4.2 被5 / 2整除印出特定文字"
      ],
      "execution_count": 0,
      "outputs": []
    },
    {
      "metadata": {
        "id": "0oP7TEXfC54d",
        "colab_type": "code",
        "colab": {
          "base_uri": "https://localhost:8080/",
          "height": 68
        },
        "outputId": "a23cd396-6bf3-47e3-c004-899eef86f4d2"
      },
      "cell_type": "code",
      "source": [
        "number = eval(input(\"Enter an integer: \"))\n",
        "\n",
        "if number % 5 == 0 :\n",
        "   print(\"Five\");\n",
        "\n",
        "if number % 2 == 0 :\n",
        "   print(\"Even\");"
      ],
      "execution_count": 4,
      "outputs": [
        {
          "output_type": "stream",
          "text": [
            "Enter an integer: 10\n",
            "HiFive\n",
            "HiEven\n"
          ],
          "name": "stdout"
        }
      ]
    },
    {
      "metadata": {
        "id": "1dZyNpqnDMYN",
        "colab_type": "text"
      },
      "cell_type": "markdown",
      "source": [
        "範例4.3 猜測生日"
      ]
    },
    {
      "metadata": {
        "id": "DFbJo05YDTL-",
        "colab_type": "code",
        "colab": {
          "base_uri": "https://localhost:8080/",
          "height": 561
        },
        "outputId": "7b6644e4-2b69-4b7b-ea0a-5939b3dc71d4"
      },
      "cell_type": "code",
      "source": [
        "day = 0 # birth day to be determined\n",
        "  \n",
        "# Prompt the user to answer the first question\n",
        "question1 = \"Is your birthday in Set1?\\n\" + \\\n",
        "    \" 1  3  5  7\\n\" + \\\n",
        "    \" 9 11 13 15\\n\" + \\\n",
        "    \"17 19 21 23\\n\" + \\\n",
        "    \"25 27 29 31\" + \\\n",
        "    \"\\nEnter 0 for No and 1 for Yes: \" \n",
        "answer = eval(input(question1))\n",
        "  \n",
        "if answer == 1:\n",
        "   day += 1\n",
        " \n",
        "# Prompt the user to answer the second question\n",
        "question2 = \"Is your birthday in Set2?\\n\" + \\\n",
        "    \" 2  3  6  7\\n\" + \\\n",
        "    \"10 11 14 15\\n\" + \\\n",
        "    \"18 19 22 23\\n\" + \\\n",
        "    \"26 27 30 31\" + \\\n",
        "    \"\\nEnter 0 for No and 1 for Yes: \" \n",
        "answer = eval(input(question2))\n",
        "  \n",
        "if answer == 1:\n",
        "   day += 2\n",
        " \n",
        "# Prompt the user to answer the third question\n",
        "question3 = \"Is your birthday in Set3?\\n\" + \\\n",
        "    \" 4  5  6  7\\n\" + \\\n",
        "    \"12 13 14 15\\n\" + \\\n",
        "    \"20 21 22 23\\n\" + \\\n",
        "    \"28 29 30 31\" + \\\n",
        "    \"\\nEnter 0 for No and 1 for Yes: \" \n",
        "answer = eval(input(question3))\n",
        "  \n",
        "if answer == 1:\n",
        "   day += 4\n",
        "  \n",
        "# Prompt the user to answer the fourth question\n",
        "question4 = \"Is your birthday in Set4?\\n\" + \\\n",
        "    \" 8  9 10 11\\n\" + \\\n",
        "    \"12 13 14 15\\n\" + \\\n",
        "    \"24 25 26 27\\n\" + \\\n",
        "    \"28 29 30 31\" + \\\n",
        "    \"\\nEnter 0 for No and 1 for Yes: \" \n",
        "answer = eval(input(question4))\n",
        "  \n",
        "if answer == 1:\n",
        "    day += 8\n",
        "  \n",
        "# Prompt the user to answer the fifth question\n",
        "question5 = \"Is your birthday in Set5?\\n\" + \\\n",
        "    \"16 17 18 19\\n\" + \\\n",
        "    \"20 21 22 23\\n\" + \\\n",
        "    \"24 25 26 27\\n\" + \\\n",
        "    \"28 29 30 31\" + \\\n",
        "    \"\\nEnter 0 for No and 1 for Yes: \" \n",
        "answer = eval(input(question5))\n",
        "  \n",
        "if answer == 1:\n",
        "    day += 16\n",
        "\n",
        "print(\"\\nYour birthday is\" + str(day) + \"!\")\n"
      ],
      "execution_count": 7,
      "outputs": [
        {
          "output_type": "stream",
          "text": [
            "Is your birthday in Set1?\n",
            " 1  3  5  7\n",
            " 9 11 13 15\n",
            "17 19 21 23\n",
            "25 27 29 31\n",
            "Enter 0 for No and 1 for Yes: 0\n",
            "Is your birthday in Set2?\n",
            " 2  3  6  7\n",
            "10 11 14 15\n",
            "18 19 22 23\n",
            "26 27 30 31\n",
            "Enter 0 for No and 1 for Yes: 0\n",
            "Is your birthday in Set3?\n",
            " 4  5  6  7\n",
            "12 13 14 15\n",
            "20 21 22 23\n",
            "28 29 30 31\n",
            "Enter 0 for No and 1 for Yes: 1\n",
            "Is your birthday in Set4?\n",
            " 8  9 10 11\n",
            "12 13 14 15\n",
            "24 25 26 27\n",
            "28 29 30 31\n",
            "Enter 0 for No and 1 for Yes: 1\n",
            "Is your birthday in Set5?\n",
            "16 17 18 19\n",
            "20 21 22 23\n",
            "24 25 26 27\n",
            "28 29 30 31\n",
            "Enter 0 for No and 1 for Yes: 1\n",
            "\n",
            "Your birthday is28!\n"
          ],
          "name": "stdout"
        }
      ]
    },
    {
      "metadata": {
        "id": "cbQKsdtAD-mF",
        "colab_type": "text"
      },
      "cell_type": "markdown",
      "source": [
        "範例4.4  判別答案是否正確 "
      ]
    },
    {
      "metadata": {
        "id": "oN_5TOQ9ELLt",
        "colab_type": "code",
        "colab": {
          "base_uri": "https://localhost:8080/",
          "height": 51
        },
        "outputId": "2516a613-9f12-40ce-a86d-32463c8bbb8f"
      },
      "cell_type": "code",
      "source": [
        "import random\n",
        "\n",
        "# 1. Generate two random single-digit integers\n",
        "number1 = random.randint(0, 9)\n",
        "number2 = random.randint(0, 9)\n",
        "\n",
        "# 2. If number1 < number2, swap number1 with number2\n",
        "if number1 < number2:\n",
        "    number1, number2 = number2, number1 # Simultaneous assignment\n",
        "\n",
        "# 4. Prompt the student to answer \"what is number1 - number2?\"\n",
        "answer = eval(input(\"What is \" + str(number1) + \" - \" + \n",
        "    str(number2) + \"? \"))\n",
        "\n",
        "# 4. Grade the answer and display the result\n",
        "if number1 - number2 == answer:\n",
        "    print(\"You are correct!\")\n",
        "else:\n",
        "    print(\"Your answer is wrong.\\n\", number1, \"-\",\n",
        "        number2, \"is\", number1 - number2)"
      ],
      "execution_count": 8,
      "outputs": [
        {
          "output_type": "stream",
          "text": [
            "What is 1 - 1? 0\n",
            "You are correct!\n"
          ],
          "name": "stdout"
        }
      ]
    }
  ]
}
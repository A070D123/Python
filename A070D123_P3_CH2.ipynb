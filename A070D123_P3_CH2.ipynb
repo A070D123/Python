{
  "nbformat": 4,
  "nbformat_minor": 0,
  "metadata": {
    "colab": {
      "name": "A070D123_P3_CH2.ipynb",
      "version": "0.3.2",
      "provenance": [],
      "include_colab_link": true
    },
    "kernelspec": {
      "name": "python3",
      "display_name": "Python 3"
    }
  },
  "cells": [
    {
      "cell_type": "markdown",
      "metadata": {
        "id": "view-in-github",
        "colab_type": "text"
      },
      "source": [
        "<a href=\"https://colab.research.google.com/github/A070D123/Python/blob/master/A070D123_P3_CH2.ipynb\" target=\"_parent\"><img src=\"https://colab.research.google.com/assets/colab-badge.svg\" alt=\"Open In Colab\"/></a>"
      ]
    },
    {
      "metadata": {
        "id": "bBE1iG1zGx2d",
        "colab_type": "text"
      },
      "cell_type": "markdown",
      "source": [
        "範例2.1 半徑*半徑*圓周 P.33"
      ]
    },
    {
      "metadata": {
        "id": "oGar8UC_FNyt",
        "colab_type": "code",
        "colab": {
          "base_uri": "https://localhost:8080/",
          "height": 51
        },
        "outputId": "ef0f3d57-3509-4cd7-bbf2-3aad63c265c6"
      },
      "cell_type": "code",
      "source": [
        "#!/usr/bin/python\n",
        "# coding: UTF-8\n",
        "\n",
        "# Prompt the user to enter a radius\n",
        "radius = eval(input(\"Enter a number for radius: \"))\n",
        "\n",
        "# Compute area\n",
        "area = radius * radius * 3.14159\n",
        "\n",
        "# Display results\n",
        "print(\"The area for the circle of radius\", radius, \"is\", area)"
      ],
      "execution_count": 2,
      "outputs": [
        {
          "output_type": "stream",
          "text": [
            "Enter a number for radius: 5\n",
            "The area for the circle of radius 5 is 78.53975\n"
          ],
          "name": "stdout"
        }
      ]
    },
    {
      "metadata": {
        "id": "UinpU1DiHSDE",
        "colab_type": "text"
      },
      "cell_type": "markdown",
      "source": [
        "範例2.3 輸入三個值並取平均值 P.35"
      ]
    },
    {
      "metadata": {
        "id": "Ev0HzsArHSZF",
        "colab_type": "code",
        "colab": {
          "base_uri": "https://localhost:8080/",
          "height": 85
        },
        "outputId": "2bd93fa7-ca9a-4a38-ed7c-e9b9e0f15b62"
      },
      "cell_type": "code",
      "source": [
        "#!/usr/bin/python\n",
        "# coding: UTF-8\n",
        "\n",
        "# Prompt the user to enter three numbers\n",
        "number1 = eval(input(\"Enter the first number: \"))\n",
        "number2 = eval(input(\"Enter the second number: \"))\n",
        "number3 = eval(input(\"Enter the third number: \"))\n",
        "\n",
        "# Compute average\n",
        "average = (number1 + number2 + number3) / 3\n",
        "\n",
        "# Display result\n",
        "print(\"The average of\", number1, number2, number3, \n",
        "    \"is\", average)"
      ],
      "execution_count": 3,
      "outputs": [
        {
          "output_type": "stream",
          "text": [
            "Enter the first number: 25\n",
            "Enter the second number: 25\n",
            "Enter the third number: 26\n",
            "The average of 25 25 26 is 25.333333333333332\n"
          ],
          "name": "stdout"
        }
      ]
    },
    {
      "metadata": {
        "id": "oW_mBnMbHSqM",
        "colab_type": "text"
      },
      "cell_type": "markdown",
      "source": [
        "範例2.4 同時指定 P.39"
      ]
    },
    {
      "metadata": {
        "id": "C27sus2gHSz0",
        "colab_type": "code",
        "colab": {
          "base_uri": "https://localhost:8080/",
          "height": 51
        },
        "outputId": "93f8bbf9-2af7-44df-fbfb-801c718158ac"
      },
      "cell_type": "code",
      "source": [
        "#!/usr/bin/python\n",
        "# coding: UTF-8\n",
        "\n",
        "# Prompt the user to enter three numbers\n",
        "number1, number2, number3 = eval(input(\n",
        "  \"Enter three numbers separated by commas: \"))\n",
        "\n",
        "# Compute average\n",
        "average = (number1 + number2 + number3) / 3\n",
        "\n",
        "# Display result\n",
        "print(\"The average of\", number1, number2, number3,\n",
        "    \"is\", average)"
      ],
      "execution_count": 6,
      "outputs": [
        {
          "output_type": "stream",
          "text": [
            "Enter three numbers separated by commas: 1,5,6\n",
            "The average of 1 5 6 is 4.0\n"
          ],
          "name": "stdout"
        }
      ]
    },
    {
      "metadata": {
        "id": "7FSkpXNgHS6M",
        "colab_type": "text"
      },
      "cell_type": "markdown",
      "source": [
        "範例2.5 用秒顯示總時長 P.41"
      ]
    },
    {
      "metadata": {
        "id": "KumIctYHHTA0",
        "colab_type": "code",
        "colab": {
          "base_uri": "https://localhost:8080/",
          "height": 51
        },
        "outputId": "a788440c-d132-4c61-d6d9-a3cd33589065"
      },
      "cell_type": "code",
      "source": [
        "#!/usr/bin/python\n",
        "# coding: UTF-8\n",
        "\n",
        "# Prompt the user for input\n",
        "seconds = eval(input(\"Enter an integer for seconds: \"))\n",
        "\n",
        "# Get minutes and remaining seconds\n",
        "minutes = seconds // 60     # Find minutes in seconds\n",
        "remainingSeconds = seconds % 60   # Seconds remaining\n",
        "print(seconds, \"seconds is\", minutes,  \n",
        "  \"minutes and\", remainingSeconds, \"seconds\")"
      ],
      "execution_count": 7,
      "outputs": [
        {
          "output_type": "stream",
          "text": [
            "Enter an integer for seconds: 600\n",
            "600 seconds is 10 minutes and 0 seconds\n"
          ],
          "name": "stdout"
        }
      ]
    },
    {
      "metadata": {
        "id": "ml297OBAHTGs",
        "colab_type": "text"
      },
      "cell_type": "markdown",
      "source": [
        "範例2.6 取小數點兩位顯示營業額 P.46"
      ]
    },
    {
      "metadata": {
        "id": "HKtfldV6HTPU",
        "colab_type": "code",
        "colab": {
          "base_uri": "https://localhost:8080/",
          "height": 51
        },
        "outputId": "b00dd781-8d61-457f-bed2-aa730a2d4dc3"
      },
      "cell_type": "code",
      "source": [
        "#!/usr/bin/python\n",
        "# coding: UTF-8\n",
        "\n",
        "# Prompt the user for input\n",
        "purchaseAmount = eval(input(\"Enter purchase amount: \"))\n",
        "\n",
        "# Compute sales tax\n",
        "tax = purchaseAmount * 0.06\n",
        "\n",
        "# Display tax amount with two digits after decimal point\n",
        "print(\"Sales tax is\", int(tax * 100) / 100.0)"
      ],
      "execution_count": 8,
      "outputs": [
        {
          "output_type": "stream",
          "text": [
            "Enter purchase amount: 120.22\n",
            "Sales tax is 7.21\n"
          ],
          "name": "stdout"
        }
      ]
    },
    {
      "metadata": {
        "id": "dD8ti380HTVE",
        "colab_type": "text"
      },
      "cell_type": "markdown",
      "source": [
        "範例2.7 顯示當前時間 P.47"
      ]
    },
    {
      "metadata": {
        "id": "kGujrG3THTak",
        "colab_type": "code",
        "colab": {
          "base_uri": "https://localhost:8080/",
          "height": 34
        },
        "outputId": "276c9429-4e73-4ce8-f4cb-1469f149dc11"
      },
      "cell_type": "code",
      "source": [
        "#!/usr/bin/python\n",
        "# coding: UTF-8\n",
        "\n",
        "import time\n",
        "\n",
        "currentTime = time.time() # Get current time\n",
        "\n",
        "# Obtain the total seconds since midnight, Jan 1, 1970\n",
        "totalSeconds = int(currentTime)\n",
        "\n",
        "# Get the current second \n",
        "currentSecond = totalSeconds % 60 \n",
        "\n",
        "# Obtain the total minutes\n",
        "totalMinutes = totalSeconds // 60 \n",
        "\n",
        "# Compute the current minute in the hour\n",
        "currentMinute = totalMinutes % 60\n",
        "\n",
        "# Obtain the total hours\n",
        "totalHours = totalMinutes // 60\n",
        "\n",
        "# Compute the current hour\n",
        "currentHour = totalHours % 24\n",
        "\n",
        "# Display results\n",
        "print(\"Current time is \" + str(currentHour) + \":\"\n",
        "    + str(currentMinute) + \":\" + str(currentSecond) + \" GMT\")"
      ],
      "execution_count": 9,
      "outputs": [
        {
          "output_type": "stream",
          "text": [
            "Current time is 6:13:48 GMT\n"
          ],
          "name": "stdout"
        }
      ]
    },
    {
      "metadata": {
        "id": "bp1qWLWeHTg9",
        "colab_type": "text"
      },
      "cell_type": "markdown",
      "source": [
        "範例2.8 P.51"
      ]
    },
    {
      "metadata": {
        "id": "-VtwLxiwHTnE",
        "colab_type": "code",
        "colab": {
          "base_uri": "https://localhost:8080/",
          "height": 102
        },
        "outputId": "fc550860-d431-4dae-eb1c-4d4108124942"
      },
      "cell_type": "code",
      "source": [
        "#!/usr/bin/python\n",
        "# coding: UTF-8\n",
        "\n",
        "# Enter yearly interest rate\n",
        "annualInterestRate = eval(input(\n",
        "  \"Enter annual interest rate, e.g., 8.25: \"))\n",
        "monthlyInterestRate = annualInterestRate / 1200\n",
        "\n",
        "# Enter number of years\n",
        "numberOfYears = eval(input(\n",
        "  \"Enter number of years as an integer, e.g., 5: \"))\n",
        "    \n",
        "# Enter loan amount\n",
        "loanAmount = eval(input(\"Enter loan amount, e.g., 120000.95: \"))\n",
        "    \n",
        "# Calculate payment\n",
        "monthlyPayment = loanAmount * monthlyInterestRate / (1\n",
        "  - 1 / (1 + monthlyInterestRate) ** (numberOfYears * 12))\n",
        "totalPayment = monthlyPayment * numberOfYears * 12\n",
        "\n",
        "# Display results\n",
        "print(\"The monthly payment is\", int(monthlyPayment * 100) / 100)\n",
        "print(\"The total payment is\", int(totalPayment * 100) /100)"
      ],
      "execution_count": 10,
      "outputs": [
        {
          "output_type": "stream",
          "text": [
            "Enter annual interest rate, e.g., 8.25: 8.45\n",
            "Enter number of years as an integer, e.g., 5: 30\n",
            "Enter loan amount, e.g., 120000.95: 666666666\n",
            "The monthly payment is 5102485.0\n",
            "The total payment is 1836894600.99\n"
          ],
          "name": "stdout"
        }
      ]
    }
  ]
}